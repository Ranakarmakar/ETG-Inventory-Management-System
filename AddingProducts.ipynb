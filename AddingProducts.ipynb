{
 "cells": [
  {
   "cell_type": "markdown",
   "metadata": {},
   "source": [
    "# Inventory Management System\n",
    "#### Name - Rana Karmakar.\n",
    "### Assignment - 2\n",
    "## ETG Skill India Internship Program"
   ]
  },
  {
   "cell_type": "markdown",
   "metadata": {},
   "source": [
    "## Adding initial products in record.json file"
   ]
  },
  {
   "cell_type": "code",
   "execution_count": 2,
   "metadata": {},
   "outputs": [],
   "source": [
    "products = {\n",
    "    \"1001\": {\"name\": \"Choco Cake\", \"price\": 100, \"quant\": 34, \"brand\": \"Britannia\", \"expiry\": \"1/12/2021\"},\n",
    "    \"1002\": {\"name\": \"Milk Cake\", \"price\": 400, \"quant\": 100, \"brand\": \"Britannia\", \"expiry\": \"1/12/2021\"},\n",
    "    \"1003\": {\"name\": \"Pepsi\", \"price\": 40, \"quant\": 100, \"brand\": \"Pepsi-Co\", \"expiry\": \"23/11/2021\"},\n",
    "    \"1004\": {\"name\": \"Candy\", \"price\": 5, \"quant\": 500, \"brand\": \"Eclairs\", \"expiry\": \"12/02/2022\"},\n",
    "    \"1005\": {\"name\": \"Pen\", \"price\": 20, \"quant\": 100, \"brand\": \"Pilot\", \"expiry\": \"01/12/2023\"},\n",
    "    \"1006\": {\"name\": \"Smartphone\", \"price\": 20000, \"quant\": 10, \"brand\": \"Samsung\", \"expiry\": \"NA\"},\n",
    "    \"1007\": {\"name\": \"Microphone\", \"price\": 1500, \"quant\": 0, \"brand\": \"Sony\", \"expiry\": \"NA\"},\n",
    "    \"1008\": {\"name\": \"Case\", \"price\": 599, \"quant\": 5, \"brand\": \"Octa\", \"expiry\": \"NA\"},\n",
    "    \"1009\": {\"name\": \"Keyboard\", \"price\": 1999, \"quant\": 10, \"brand\": \"Logitech\", \"expiry\": \"NA\"},\n",
    "    \"1011\": {\"name\": \"Dairy Milk Silk\", \"price\":150, \"quant\":50, \"brand\":\"Cadbury\", \"expiry\":\"31/01/2022\"},\n",
    "    \"1012\": {\"name\": \"Cadbury Park\", \"price\":120, \"quant\":60, \"brand\":\"Cadbury\", \"expiry\":\"31/06/2022\"},\n",
    "    \"1013\": {\"name\": \"Orio\", \"price\":120, \"quant\":80, \"brand\":\"Orio\", \"expiry\":\"31/05/2022\"},\n",
    "    \"1014\": {\"name\": \"Mountain Dew\", \"price\":160, \"quant\":80, \"brand\":\"PepsiCo\", \"expiry\":\"31/03/2022\"},\n",
    "    \"1015\": {\"name\": \"Munch\", \"price\":140, \"quant\":90, \"brand\":\"Cadbury\", \"expiry\":\"31/01/2022\"}\n",
    "}"
   ]
  },
  {
   "cell_type": "code",
   "execution_count": 3,
   "metadata": {},
   "outputs": [],
   "source": [
    "import json\n",
    "\n",
    "js = json.dumps(products)\n",
    "\n",
    "fd = open(\"record.json\",\"w\")\n",
    "\n",
    "fd.write(js)\n",
    "\n",
    "fd.close()"
   ]
  },
  {
   "cell_type": "markdown",
   "metadata": {},
   "source": [
    "#### Reading record.json file to check products have been written"
   ]
  },
  {
   "cell_type": "code",
   "execution_count": 4,
   "metadata": {},
   "outputs": [],
   "source": [
    "fd = open(\"record.json\",'r')\n",
    "\n",
    "r = fd.read()\n",
    "\n",
    "records = json.loads(r)\n",
    "\n",
    "fd.close()"
   ]
  },
  {
   "cell_type": "code",
   "execution_count": 7,
   "metadata": {},
   "outputs": [
    {
     "data": {
      "text/plain": [
       "{'1001': {'name': 'Choco Cake',\n",
       "  'price': 100,\n",
       "  'quant': 34,\n",
       "  'brand': 'Britannia',\n",
       "  'expiry': '1/12/2021'},\n",
       " '1002': {'name': 'Milk Cake',\n",
       "  'price': 400,\n",
       "  'quant': 100,\n",
       "  'brand': 'Britannia',\n",
       "  'expiry': '1/12/2021'},\n",
       " '1003': {'name': 'Pepsi',\n",
       "  'price': 40,\n",
       "  'quant': 100,\n",
       "  'brand': 'Pepsi-Co',\n",
       "  'expiry': '23/11/2021'},\n",
       " '1004': {'name': 'Candy',\n",
       "  'price': 5,\n",
       "  'quant': 500,\n",
       "  'brand': 'Eclairs',\n",
       "  'expiry': '12/02/2022'},\n",
       " '1005': {'name': 'Pen',\n",
       "  'price': 20,\n",
       "  'quant': 100,\n",
       "  'brand': 'Pilot',\n",
       "  'expiry': '01/12/2023'},\n",
       " '1006': {'name': 'Smartphone',\n",
       "  'price': 20000,\n",
       "  'quant': 10,\n",
       "  'brand': 'Samsung',\n",
       "  'expiry': 'NA'},\n",
       " '1007': {'name': 'Microphone',\n",
       "  'price': 1500,\n",
       "  'quant': 0,\n",
       "  'brand': 'Sony',\n",
       "  'expiry': 'NA'},\n",
       " '1008': {'name': 'Case',\n",
       "  'price': 599,\n",
       "  'quant': 5,\n",
       "  'brand': 'Octa',\n",
       "  'expiry': 'NA'},\n",
       " '1009': {'name': 'Keyboard',\n",
       "  'price': 1999,\n",
       "  'quant': 10,\n",
       "  'brand': 'Logitech',\n",
       "  'expiry': 'NA'},\n",
       " '1011': {'name': 'Dairy Milk Silk',\n",
       "  'price': 150,\n",
       "  'quant': 50,\n",
       "  'brand': 'Cadbury',\n",
       "  'expiry': '31/01/2022'},\n",
       " '1012': {'name': 'Cadbury Park',\n",
       "  'price': 120,\n",
       "  'quant': 60,\n",
       "  'brand': 'Cadbury',\n",
       "  'expiry': '31/06/2022'},\n",
       " '1013': {'name': 'Orio',\n",
       "  'price': 120,\n",
       "  'quant': 80,\n",
       "  'brand': 'Orio',\n",
       "  'expiry': '31/05/2022'},\n",
       " '1014': {'name': 'Mountain Dew',\n",
       "  'price': 160,\n",
       "  'quant': 80,\n",
       "  'brand': 'PepsiCo',\n",
       "  'expiry': '31/03/2022'},\n",
       " '1015': {'name': 'Munch',\n",
       "  'price': 140,\n",
       "  'quant': 90,\n",
       "  'brand': 'Cadbury',\n",
       "  'expiry': '31/01/2022'}}"
      ]
     },
     "execution_count": 7,
     "metadata": {},
     "output_type": "execute_result"
    }
   ],
   "source": [
    "records"
   ]
  },
  {
   "cell_type": "markdown",
   "metadata": {},
   "source": [
    "## Adding new products in record.json file"
   ]
  },
  {
   "cell_type": "code",
   "execution_count": 5,
   "metadata": {},
   "outputs": [
    {
     "name": "stdout",
     "output_type": "stream",
     "text": [
      "Enter name: Detol\n",
      "Enter price: 200\n",
      "Enter quantity: 20\n",
      "Enter brand: hindustan Uniliver\n",
      "Enter expiry: 20/8/22\n"
     ]
    }
   ],
   "source": [
    "prod_id = str(len(records) + 1001)\n",
    "name = input(\"Enter name: \")\n",
    "price = int(input(\"Enter price: \"))\n",
    "quantity = int(input(\"Enter quantity: \"))\n",
    "brand = input(\"Enter brand: \")\n",
    "expiry = input(\"Enter expiry: \")\n",
    "\n",
    "products[prod_id] = {'name': name, 'price': price, 'quant': quantity, 'brand': brand, 'expiry': expiry}\n",
    "\n",
    "js = json.dumps(products)\n",
    "\n",
    "fd = open(\"record.json\",'w')\n",
    "\n",
    "fd.write(js)\n",
    "\n",
    "fd.close()"
   ]
  },
  {
   "cell_type": "markdown",
   "metadata": {},
   "source": [
    "#### Reading record.json file to check products have been written"
   ]
  },
  {
   "cell_type": "code",
   "execution_count": 8,
   "metadata": {},
   "outputs": [],
   "source": [
    "fd = open(\"record.json\",'r')\n",
    "\n",
    "r = fd.read()\n",
    "\n",
    "records = json.loads(r)\n",
    "\n",
    "fd.close()"
   ]
  },
  {
   "cell_type": "code",
   "execution_count": 9,
   "metadata": {},
   "outputs": [
    {
     "data": {
      "text/plain": [
       "{'1001': {'name': 'Choco Cake',\n",
       "  'price': 100,\n",
       "  'quant': 34,\n",
       "  'brand': 'Britannia',\n",
       "  'expiry': '1/12/2021'},\n",
       " '1002': {'name': 'Milk Cake',\n",
       "  'price': 400,\n",
       "  'quant': 100,\n",
       "  'brand': 'Britannia',\n",
       "  'expiry': '1/12/2021'},\n",
       " '1003': {'name': 'Pepsi',\n",
       "  'price': 40,\n",
       "  'quant': 100,\n",
       "  'brand': 'Pepsi-Co',\n",
       "  'expiry': '23/11/2021'},\n",
       " '1004': {'name': 'Candy',\n",
       "  'price': 5,\n",
       "  'quant': 500,\n",
       "  'brand': 'Eclairs',\n",
       "  'expiry': '12/02/2022'},\n",
       " '1005': {'name': 'Pen',\n",
       "  'price': 20,\n",
       "  'quant': 100,\n",
       "  'brand': 'Pilot',\n",
       "  'expiry': '01/12/2023'},\n",
       " '1006': {'name': 'Smartphone',\n",
       "  'price': 20000,\n",
       "  'quant': 10,\n",
       "  'brand': 'Samsung',\n",
       "  'expiry': 'NA'},\n",
       " '1007': {'name': 'Microphone',\n",
       "  'price': 1500,\n",
       "  'quant': 0,\n",
       "  'brand': 'Sony',\n",
       "  'expiry': 'NA'},\n",
       " '1008': {'name': 'Case',\n",
       "  'price': 599,\n",
       "  'quant': 5,\n",
       "  'brand': 'Octa',\n",
       "  'expiry': 'NA'},\n",
       " '1009': {'name': 'Keyboard',\n",
       "  'price': 1999,\n",
       "  'quant': 10,\n",
       "  'brand': 'Logitech',\n",
       "  'expiry': 'NA'},\n",
       " '1011': {'name': 'Dairy Milk Silk',\n",
       "  'price': 150,\n",
       "  'quant': 50,\n",
       "  'brand': 'Cadbury',\n",
       "  'expiry': '31/01/2022'},\n",
       " '1012': {'name': 'Cadbury Park',\n",
       "  'price': 120,\n",
       "  'quant': 60,\n",
       "  'brand': 'Cadbury',\n",
       "  'expiry': '31/06/2022'},\n",
       " '1013': {'name': 'Orio',\n",
       "  'price': 120,\n",
       "  'quant': 80,\n",
       "  'brand': 'Orio',\n",
       "  'expiry': '31/05/2022'},\n",
       " '1014': {'name': 'Mountain Dew',\n",
       "  'price': 160,\n",
       "  'quant': 80,\n",
       "  'brand': 'PepsiCo',\n",
       "  'expiry': '31/03/2022'},\n",
       " '1015': {'name': 'Munch',\n",
       "  'price': 140,\n",
       "  'quant': 90,\n",
       "  'brand': 'Cadbury',\n",
       "  'expiry': '31/01/2022'}}"
      ]
     },
     "execution_count": 9,
     "metadata": {},
     "output_type": "execute_result"
    }
   ],
   "source": [
    "records"
   ]
  },
  {
   "cell_type": "code",
   "execution_count": null,
   "metadata": {},
   "outputs": [],
   "source": []
  }
 ],
 "metadata": {
  "kernelspec": {
   "display_name": "Python 3",
   "language": "python",
   "name": "python3"
  },
  "language_info": {
   "codemirror_mode": {
    "name": "ipython",
    "version": 3
   },
   "file_extension": ".py",
   "mimetype": "text/x-python",
   "name": "python",
   "nbconvert_exporter": "python",
   "pygments_lexer": "ipython3",
   "version": "3.8.8"
  }
 },
 "nbformat": 4,
 "nbformat_minor": 4
}
